{
 "cells": [
  {
   "cell_type": "code",
   "execution_count": 1,
   "metadata": {},
   "outputs": [],
   "source": [
    "import numpy as np\n",
    "import pandas as pd\n",
    "import pickle\n",
    "import tensorflow as tf\n",
    "from tensorflow import keras\n",
    "from tensorflow.keras import layers\n",
    "from sklearn.preprocessing import OneHotEncoder\n",
    "from sklearn.preprocessing import MinMaxScaler\n",
    "import matplotlib.pyplot as plt\n",
    "import seaborn as sb\n",
    "from sklearn.model_selection import train_test_split\n",
    "from sklearn.metrics import confusion_matrix\n",
    "import sklearn.metrics\n",
    "from tensorflow.keras.utils import plot_model"
   ]
  },
  {
   "cell_type": "code",
   "execution_count": 2,
   "metadata": {},
   "outputs": [],
   "source": [
    "# (i).   Mapping labels to their resp. classes\n",
    "# (ii).  Mapping classes to their resp. labels\n",
    "\n",
    "label_to_class = {\n",
    "    1  : 'WALKING',          \n",
    "    2  : 'WALKING_UPSTAIRS', \n",
    "    3  : 'WALKING_DOWNSTAIRS',\n",
    "    4  : 'SITTING',      \n",
    "    5  : 'STANDING',       \n",
    "    6  : 'LAYING',         \n",
    "    7  : 'STAND_TO_SIT',      \n",
    "    8  : 'SIT_TO_STAND',     \n",
    "    9  : 'SIT_TO_LIE',     \n",
    "    10 : 'LIE_TO_SIT',      \n",
    "    11 : 'STAND_TO_LIE',      \n",
    "    12 : 'LIE_TO_STAND',   \n",
    "    np.nan : np.nan\n",
    "}\n",
    "class_to_label = {\n",
    "    'WALKING' : 1,\n",
    "    'WALKING_UPSTAIRS' : 2,\n",
    "    'WALKING_DOWNSTAIRS' : 3,\n",
    "    'SITTING' : 4,\n",
    "    'STANDING' : 5,         \n",
    "    'LAYING' : 6,      \n",
    "    'STAND_TO_SIT' : 7,     \n",
    "    'SIT_TO_STAND' : 8,     \n",
    "    'SIT_TO_LIE' : 9,     \n",
    "    'LIE_TO_SIT' : 10,        \n",
    "    'STAND_TO_LIE' : 11,     \n",
    "    'LIE_TO_STAND' : 12,\n",
    "    np.nan : np.nan\n",
    "}"
   ]
  },
  {
   "cell_type": "code",
   "execution_count": 3,
   "metadata": {},
   "outputs": [],
   "source": []
  }
 ],
 "metadata": {
  "kernelspec": {
   "display_name": "Python 3",
   "language": "python",
   "name": "python3"
  },
  "language_info": {
   "codemirror_mode": {
    "name": "ipython",
    "version": 3
   },
   "file_extension": ".py",
   "mimetype": "text/x-python",
   "name": "python",
   "nbconvert_exporter": "python",
   "pygments_lexer": "ipython3",
   "version": "3.11.4"
  },
  "orig_nbformat": 4
 },
 "nbformat": 4,
 "nbformat_minor": 2
}

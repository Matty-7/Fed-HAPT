{
 "cells": [
  {
   "cell_type": "code",
   "execution_count": 4,
   "metadata": {},
   "outputs": [],
   "source": [
    "import pandas as pd\n",
    "import numpy as np"
   ]
  },
  {
   "cell_type": "code",
   "execution_count": 11,
   "metadata": {},
   "outputs": [],
   "source": [
    "# Read in the data\n",
    "X_train = pd.read_csv('HAPT-Dataset/Train/X_train.txt', delim_whitespace=True, header=None)\n",
    "y_train = pd.read_csv('HAPT-Dataset/Train/y_train.txt', delim_whitespace=True, header=None)\n",
    "subject_id_train = pd.read_csv('HAPT-Dataset/Train/subject_id_train.txt', delim_whitespace=True, header=None)\n",
    "\n",
    "X_test = pd.read_csv('HAPT-Dataset/Test/X_test.txt', delim_whitespace=True, header=None)\n",
    "y_test = pd.read_csv('HAPT-Dataset/Test/y_test.txt', delim_whitespace=True, header=None)\n",
    "subject_id_test = pd.read_csv('HAPT-Dataset/Test/subject_id_test.txt', delim_whitespace=True, header=None)"
   ]
  },
  {
   "cell_type": "code",
   "execution_count": 12,
   "metadata": {},
   "outputs": [],
   "source": [
    "# Combine the X and y data\n",
    "train_data = pd.concat([X_train, y_train], axis=1)\n",
    "test_data = pd.concat([X_test, y_test], axis=1)"
   ]
  },
  {
   "cell_type": "code",
   "execution_count": 13,
   "metadata": {},
   "outputs": [],
   "source": [
    "# Add the subject_id to the data\n",
    "train_data['subject_id'] = subject_id_train\n",
    "test_data['subject_id'] = subject_id_test"
   ]
  },
  {
   "cell_type": "code",
   "execution_count": 14,
   "metadata": {},
   "outputs": [],
   "source": [
    "# Split the data by subject_id\n",
    "train_data_groups = train_data.groupby('subject_id')\n",
    "test_data_groups = test_data.groupby('subject_id')"
   ]
  },
  {
   "cell_type": "code",
   "execution_count": 15,
   "metadata": {},
   "outputs": [],
   "source": [
    "# Create a dictionary for each user's data\n",
    "train_user_data = {}\n",
    "for user_id, data in train_data_groups:\n",
    "    train_user_data[user_id] = data\n",
    "\n",
    "test_user_data = {}\n",
    "for user_id, data in test_data_groups:\n",
    "    test_user_data[user_id] = data"
   ]
  },
  {
   "cell_type": "code",
   "execution_count": null,
   "metadata": {},
   "outputs": [],
   "source": []
  }
 ],
 "metadata": {
  "kernelspec": {
   "display_name": "Python 3",
   "language": "python",
   "name": "python3"
  },
  "language_info": {
   "codemirror_mode": {
    "name": "ipython",
    "version": 3
   },
   "file_extension": ".py",
   "mimetype": "text/x-python",
   "name": "python",
   "nbconvert_exporter": "python",
   "pygments_lexer": "ipython3",
   "version": "3.11.4"
  },
  "orig_nbformat": 4
 },
 "nbformat": 4,
 "nbformat_minor": 2
}
